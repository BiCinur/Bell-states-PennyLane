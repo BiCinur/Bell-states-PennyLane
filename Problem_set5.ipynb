{
 "cells": [
  {
   "cell_type": "code",
   "execution_count": 208,
   "id": "970465c3",
   "metadata": {},
   "outputs": [
    {
     "name": "stdout",
     "output_type": "stream",
     "text": [
      "1\n",
      "-1\n",
      "1\n",
      "-1\n",
      "[0 0]\n",
      "[0 1]\n",
      "[1 0]\n",
      "[1 1]\n"
     ]
    }
   ],
   "source": [
    "import matplotlib.pyplot as plt\n",
    "import pennylane as qml\n",
    "from pennylane import numpy as np\n",
    "\n",
    "dev1 = qml.device(\"default.qubit\", wires = 2, shots = 1)\n",
    "dev2 = qml.device(\"default.qubit\", wires = 2, shots = 1)\n",
    "\n",
    "@qml.qnode(dev1)\n",
    "def circuit1(xbit,ybit):\n",
    "    ############### This is our U(x,y) gate ###############\n",
    "    if xbit == 1 and ybit == 0:               \n",
    "        qml.PauliX(wires = 0)\n",
    "        qml.Identity(wires = 1)      #Actually we don't need to act Identity to any of our wires because Pennylane implicitly do it for us.\n",
    "    elif xbit == 1 and ybit == 1:\n",
    "        qml.PauliX(wires = 0)\n",
    "        qml.PauliX(wires = 1)\n",
    "    elif xbit == 0 and ybit == 1:\n",
    "        qml.PauliX(wires = 1)\n",
    "        qml.Identity(wires = 0)\n",
    "    elif xbit == 0 and ybit == 0:\n",
    "        qml.Identity(wires = 0)     \n",
    "        qml.Identity(wires = 1)\n",
    "    ############### This is our U(x,y) gate ###############\n",
    "    qml.Hadamard(wires = 0)\n",
    "    qml.CNOT(wires = [0,1])\n",
    "    return qml.sample(qml.PauliZ(0) @ qml.PauliZ(1))\n",
    "    #return qml.state()\n",
    " \n",
    "@qml.qnode(dev2)\n",
    "def circuit2(xbit,ybit):\n",
    "    ############### This is our U(x,y) gate ###############\n",
    "    if xbit == 1 and ybit == 0:               \n",
    "        qml.PauliX(wires = 0)\n",
    "        qml.Identity(wires = 1)\n",
    "    elif xbit == 1 and ybit == 1:\n",
    "        qml.PauliX(wires = 0)\n",
    "        qml.PauliX(wires = 1)\n",
    "    elif xbit == 0 and ybit == 1:\n",
    "        qml.PauliX(wires = 1)\n",
    "        qml.Identity(wires = 0)\n",
    "    elif xbit == 0 and ybit == 0:\n",
    "        qml.Identity(wires = 0)\n",
    "        qml.Identity(wires = 1)\n",
    "    ############### This is our U(x,y) gate ###############\n",
    "    qml.Hadamard(wires = 0)\n",
    "    qml.CNOT(wires = [0,1])\n",
    "    qml.CNOT(wires = [0,1])\n",
    "    qml.Hadamard(wires = 0)\n",
    "    #if we want to get back to |00> state we can act the following gates to our state to go back to initial state\n",
    "    ''''\n",
    "    if xbit == 1 and ybit == 0:               \n",
    "        qml.PauliX(wires = 0)\n",
    "    elif xbit == 1 and ybit == 1:\n",
    "        qml.PauliX(wires = 0)\n",
    "        qml.PauliX(wires = 1)\n",
    "    elif xbit == 0 and ybit == 1:\n",
    "        qml.PauliX(wires = 1)\n",
    "    elif xbit == 0 and ybit == 0:\n",
    "        qml.Identity(wires = 0)\n",
    "        qml.Identity(wires = 1)        \n",
    "    '''\n",
    "    return qml.sample()\n",
    "\n",
    "# Evaluate circuit1\n",
    "print(circuit1(0,0))\n",
    "print(circuit1(0,1))\n",
    "print(circuit1(1,0))\n",
    "print(circuit1(1,1))\n",
    "\n",
    "# Evaluate circuit2\n",
    "print(circuit2(0,0))\n",
    "print(circuit2(0,1))\n",
    "print(circuit2(1,0))\n",
    "print(circuit2(1,1))"
   ]
  },
  {
   "cell_type": "code",
   "execution_count": 160,
   "id": "38b8bbe5",
   "metadata": {},
   "outputs": [
    {
     "data": {
      "text/plain": [
       "tensor(1, requires_grad=True)"
      ]
     },
     "execution_count": 160,
     "metadata": {},
     "output_type": "execute_result"
    }
   ],
   "source": [
    "#part c\n",
    "import pennylane as qml\n",
    "from pennylane import numpy as np\n",
    "\n",
    "dev1 = qml.device(\"default.qubit\", wires = 2, shots = 1)\n",
    "\n",
    "@qml.qnode(dev1)\n",
    "def circuit1():\n",
    "    qml.Hadamard(0)\n",
    "    qml.CNOT([0,1])\n",
    "    \n",
    "    return qml.sample(qml.PauliZ(0) @ qml.PauliZ(1))\n",
    "circuit1()"
   ]
  },
  {
   "cell_type": "code",
   "execution_count": 200,
   "id": "820158d7",
   "metadata": {},
   "outputs": [
    {
     "name": "stdout",
     "output_type": "stream",
     "text": [
      "[0 0]\n",
      "[0 1]\n",
      "[1 0]\n",
      "[1 1]\n"
     ]
    }
   ],
   "source": [
    "#part e\n",
    "import matplotlib.pyplot as plt\n",
    "import pennylane as qml\n",
    "from pennylane import numpy as np\n",
    "\n",
    "dev2 = qml.device(\"default.qubit\", wires = 2, shots = 1)\n",
    " \n",
    "@qml.qnode(dev2)\n",
    "def circuit2(xbit,ybit):\n",
    "    ############### This is our U(x,y) gate ###############\n",
    "    if xbit == 1 and ybit == 0:               #We could use this one as well, but it seems just one conditional statement is enough\n",
    "        qml.PauliX(wires = 0)\n",
    "    elif xbit == 1 and ybit == 1:\n",
    "        qml.PauliX(wires = 0)\n",
    "        qml.PauliX(wires = 1)\n",
    "    elif xbit == 0 and ybit == 1:\n",
    "        qml.PauliX(wires = 1)\n",
    "    elif xbit == 0 and ybit == 0:\n",
    "        qml.Identity(wires = 0)\n",
    "        qml.Identity(wires = 1)\n",
    "    ############### This is our U(x,y) gate ###############\n",
    "    qml.Hadamard(wires = 0)\n",
    "    qml.CNOT(wires = [0,1])\n",
    "    qml.CNOT(wires = [0,1])\n",
    "    qml.Hadamard(wires = 0)\n",
    "    ############### This is our U(x,y) gate ###############\n",
    "    ''''\n",
    "    #if we wanna return to |00> we should act the following gates:\n",
    "    if xbit == 1 and ybit == 0:               \n",
    "        qml.PauliX(wires = 0)\n",
    "    elif xbit == 1 and ybit == 1:\n",
    "        qml.PauliX(wires = 0)\n",
    "        qml.PauliX(wires = 1)\n",
    "    elif xbit == 0 and ybit == 1:\n",
    "        qml.PauliX(wires = 1)\n",
    "    elif xbit == 0 and ybit == 0:\n",
    "        qml.Identity(wires = 0)\n",
    "        qml.Identity(wires = 1)\n",
    "    '''\n",
    "    #return qml.counts(all_outcomes = False)\n",
    "    return qml.sample()\n",
    "    #return qml.state()\n",
    "    \n",
    "# Evaluate circuit2\n",
    "print(circuit2(0,0))\n",
    "print(circuit2(0,1))\n",
    "print(circuit2(1,0))\n",
    "print(circuit2(1,1))"
   ]
  },
  {
   "cell_type": "code",
   "execution_count": 204,
   "id": "3c88ecc2",
   "metadata": {},
   "outputs": [
    {
     "name": "stdout",
     "output_type": "stream",
     "text": [
      "1\n",
      "-1\n",
      "1\n",
      "-1\n"
     ]
    }
   ],
   "source": [
    "# part d\n",
    "import matplotlib.pyplot as plt\n",
    "import pennylane as qml\n",
    "from pennylane import numpy as np\n",
    "\n",
    "dev1 = qml.device(\"default.qubit\", wires = 2, shots = 1)\n",
    "\n",
    "@qml.qnode(dev1)\n",
    "def circuit1(xbit,ybit):\n",
    "    ############### This is our U(x,y) gate ###############\n",
    "    if xbit == 1 and ybit == 0:               #We could use this one as well, but it seems just one conditional statement is enough\n",
    "        qml.PauliX(wires = 0)\n",
    "        qml.Identity(wires = 1)\n",
    "    elif xbit == 1 and ybit == 1:\n",
    "        qml.PauliX(wires = 0)\n",
    "        qml.PauliX(wires = 1)\n",
    "    elif xbit == 0 and ybit == 1:\n",
    "        qml.PauliX(wires = 1)\n",
    "        qml.Identity(wires = 0)\n",
    "    elif xbit == 0 and ybit == 0:\n",
    "        qml.Identity(wires = 0)\n",
    "        qml.Identity(wires = 1)\n",
    "    ############### This is our U(x,y) gate ###############\n",
    "    qml.Hadamard(wires = 0)\n",
    "    qml.CNOT(wires = [0,1])\n",
    "    return qml.sample(qml.PauliZ(0) @ qml.PauliZ(1))\n",
    "\n",
    "\n",
    "# Evaluate circuit1\n",
    "print(circuit1(0,0))\n",
    "print(circuit1(0,1))\n",
    "print(circuit1(1,0))\n",
    "print(circuit1(1,1))"
   ]
  },
  {
   "cell_type": "code",
   "execution_count": null,
   "id": "c3e42546",
   "metadata": {},
   "outputs": [],
   "source": []
  }
 ],
 "metadata": {
  "kernelspec": {
   "display_name": "Python 3 (ipykernel)",
   "language": "python",
   "name": "python3"
  },
  "language_info": {
   "codemirror_mode": {
    "name": "ipython",
    "version": 3
   },
   "file_extension": ".py",
   "mimetype": "text/x-python",
   "name": "python",
   "nbconvert_exporter": "python",
   "pygments_lexer": "ipython3",
   "version": "3.9.13"
  }
 },
 "nbformat": 4,
 "nbformat_minor": 5
}
